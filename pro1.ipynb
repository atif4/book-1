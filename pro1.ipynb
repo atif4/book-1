{
 "cells": [
  {
   "cell_type": "code",
   "execution_count": null,
   "metadata": {},
   "outputs": [],
   "source": [
    "name = input(\"enter the name of doner: \")\n",
    "print(\"choice any one of these donation type: \\nzakat\\nsadaka\\nfatara\")\n",
    "donation_lists = [\"zakat\", \"sadaka\" ,\"fatara\"]\n",
    "donation = input(\"please enter the type of donation ( a , b , c ): \\n\")\n",
    "mas1 = \"Doner's name is: \"\n",
    "mas2 = \"\\nHe gives his \"\n",
    "mas3 = \"something goes wrong\"\n",
    "for donation_list in donation_lists:\n",
    "    if donation_list == \"zakat\":\n",
    "        amount = input(\"please tell the amount: \")\n",
    "        print(mas1.upper()+name.upper(),mas2.upper()+donation_list.upper()+\" Of \"+amount)\n",
    "    elif donation_list == \"sadaka\":\n",
    "        amount = input(\"please enter amount: \" )\n",
    "        print(mas1.upper()+name.upper(),mas2.upper()+donation_list.upper()+\" Of \"+amount)\n",
    "    elif donation_list == \"fatara\":\n",
    "        amount = input(\"please enter amount: \")\n",
    "        print(mas1.upper()+name.upper(),mas2.upper()+donation_list.upper()+\" Of \"+amount)\n",
    "    else:\n",
    "        print(mas3.upper())"
   ]
  },
  {
   "cell_type": "code",
   "execution_count": 29,
   "metadata": {},
   "outputs": [
    {
     "name": "stdout",
     "output_type": "stream",
     "text": [
      "Enter The Name Of Doner: ali\n",
      "Please Tell The Amount Of Donation : 876876\n",
      "Choice Any One Of These Donation Type: \n",
      "A) Zakat\n",
      "B) Sadaka\n",
      "C) Fatara\n",
      "enter type of donation zakat\n"
     ]
    },
    {
     "ename": "TypeError",
     "evalue": "'int' object is not subscriptable",
     "output_type": "error",
     "traceback": [
      "\u001b[1;31m---------------------------------------------------------------------------\u001b[0m",
      "\u001b[1;31mTypeError\u001b[0m                                 Traceback (most recent call last)",
      "\u001b[1;32m<ipython-input-29-a2ed3e2bea08>\u001b[0m in \u001b[0;36m<module>\u001b[1;34m\u001b[0m\n\u001b[0;32m     15\u001b[0m     \u001b[0mdonation_list\u001b[0m \u001b[1;33m=\u001b[0m \u001b[1;36m0\u001b[0m\u001b[1;33m\u001b[0m\u001b[1;33m\u001b[0m\u001b[0m\n\u001b[0;32m     16\u001b[0m     \u001b[0mtype_of_donation\u001b[0m \u001b[1;33m=\u001b[0m \u001b[0minput\u001b[0m\u001b[1;33m(\u001b[0m\u001b[1;34m\"enter type of donation \"\u001b[0m\u001b[1;33m)\u001b[0m\u001b[1;33m\u001b[0m\u001b[1;33m\u001b[0m\u001b[0m\n\u001b[1;32m---> 17\u001b[1;33m     \u001b[1;32mif\u001b[0m \u001b[0mdonation_list\u001b[0m\u001b[1;33m[\u001b[0m\u001b[1;36m0\u001b[0m\u001b[1;33m]\u001b[0m \u001b[1;33m==\u001b[0m \u001b[0mtype_of_donation\u001b[0m\u001b[1;33m:\u001b[0m\u001b[1;33m\u001b[0m\u001b[1;33m\u001b[0m\u001b[0m\n\u001b[0m\u001b[0;32m     18\u001b[0m         \u001b[0mprint\u001b[0m\u001b[1;33m(\u001b[0m\u001b[0mmas7\u001b[0m\u001b[1;33m.\u001b[0m\u001b[0mtitle\u001b[0m\u001b[1;33m(\u001b[0m\u001b[1;33m)\u001b[0m\u001b[1;33m,\u001b[0m\u001b[0mdonation_list\u001b[0m\u001b[1;33m)\u001b[0m\u001b[1;33m\u001b[0m\u001b[1;33m\u001b[0m\u001b[0m\n\u001b[0;32m     19\u001b[0m         \u001b[0mprint\u001b[0m\u001b[1;33m(\u001b[0m\u001b[0mmas8\u001b[0m\u001b[1;33m.\u001b[0m\u001b[0mtitle\u001b[0m\u001b[1;33m(\u001b[0m\u001b[1;33m)\u001b[0m\u001b[1;33m,\u001b[0m\u001b[0mname\u001b[0m\u001b[1;33m.\u001b[0m\u001b[0mtitle\u001b[0m\u001b[1;33m(\u001b[0m\u001b[1;33m)\u001b[0m\u001b[1;33m,\u001b[0m\u001b[0mmas4\u001b[0m\u001b[1;33m.\u001b[0m\u001b[0mtitle\u001b[0m\u001b[1;33m(\u001b[0m\u001b[1;33m)\u001b[0m\u001b[1;33m,\u001b[0m\u001b[0mdonation_list\u001b[0m\u001b[1;33m.\u001b[0m\u001b[0mtitle\u001b[0m\u001b[1;33m(\u001b[0m\u001b[1;33m)\u001b[0m\u001b[1;33m+\u001b[0m\u001b[1;34m\" Of \"\u001b[0m\u001b[1;33m+\u001b[0m\u001b[0mstr\u001b[0m\u001b[1;33m(\u001b[0m\u001b[0mamount\u001b[0m\u001b[1;33m)\u001b[0m\u001b[1;33m)\u001b[0m\u001b[1;33m\u001b[0m\u001b[1;33m\u001b[0m\u001b[0m\n",
      "\u001b[1;31mTypeError\u001b[0m: 'int' object is not subscriptable"
     ]
    }
   ],
   "source": [
    "mas1 = \"enter the name of doner: \"\n",
    "mas2 = \"choice any one of these donation type: \\na) zakat\\nb) sadaka\\nc) fatara\"\n",
    "mas3 = \"Doner's name is:\"\n",
    "mas4 = \"\\nHe gives his \"\n",
    "mas5 = \"please tell the amount of donation : \"\n",
    "mas6 = \"something goes wrong\"\n",
    "mas7 = \"your donation is \"\n",
    "mas8 = \"the doner name is \"\n",
    "name = input(mas1.title())\n",
    "amount = int(input(mas5.title()))\n",
    "print(mas2.title())\n",
    "donation_lists = [\"zakat\", \"sadaka\" ,\"fatara\"]\n",
    "dic = {}\n",
    "for donation_list in donation_lists:\n",
    "    donation_list = 0 \n",
    "    type_of_donation = input(\"enter type of donation \")\n",
    "    if donation_list[0] == type_of_donation:\n",
    "        print(mas7.title(),donation_list)\n",
    "        print(mas8.title(),name.title(),mas4.title(),donation_list.title()+\" Of \"+str(amount))\n",
    "        dic[name] = amount \n",
    "    elif donation_list[1] == type_of_donation:\n",
    "        print(mas7.title(),donation_list)\n",
    "        print(mas8.title(),name.title(),mas4.title(),donation_list.title()+\" Of \"+str(amount))\n",
    "        dic[name] = amount\n",
    "    else:\n",
    "        print(mas6)\n",
    "    donation_list +=1 \n",
    "print(dic)"
   ]
  },
  {
   "cell_type": "code",
   "execution_count": 60,
   "metadata": {},
   "outputs": [],
   "source": [
    "from tkinter import *\n",
    "from PIL import ImageTk\n",
    "#root = tkinter.Tk()\n",
    "class zakat:\n",
    "    def __init__ ( self , root ):\n",
    "        self.root=root\n",
    "        self.root.title(\"Zakat System\")\n",
    "        self.root.geometry(\"1199x600+100+50\")\n",
    "        #self.bg = photoImage()#file=\"images\\image.jpg\")\n",
    "       # self.bg_image=Label(self.root,image=self.bg).place(x=0,y=0,relwidth=1,relheight=1)\n",
    "        frame_zakat = Frame(self.root,bg=\"brown\")\n",
    "        frame_zakat.place(x=150,y=150,height=340,width=500)\n",
    "        title = Label(frame_zakat,text=\"Zakat Here\",font=(\"impact\",35,\"bold\"),bg=\"brown\",fg=\"white\").place(x=90,y=30)\n",
    "        \n",
    "root=Tk()\n",
    "obj=zakat(root)\n",
    "root.mainloop()"
   ]
  }
 ],
 "metadata": {
  "kernelspec": {
   "display_name": "Python 3",
   "language": "python",
   "name": "python3"
  },
  "language_info": {
   "codemirror_mode": {
    "name": "ipython",
    "version": 3
   },
   "file_extension": ".py",
   "mimetype": "text/x-python",
   "name": "python",
   "nbconvert_exporter": "python",
   "pygments_lexer": "ipython3",
   "version": "3.7.4"
  }
 },
 "nbformat": 4,
 "nbformat_minor": 2
}
