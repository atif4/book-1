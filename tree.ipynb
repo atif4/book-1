{
 "cells": [
  {
   "cell_type": "code",
   "execution_count": null,
   "metadata": {},
   "outputs": [],
   "source": [
    "def tree_info(t_n,t_no,**t_info):\n",
    "    tree={}\n",
    "    tree['Tree name']=t_n\n",
    "    tree['Numbers of Tree']=t_no\n",
    "    for i,j in t_info.items():\n",
    "        tree[i]=j\n",
    "    return tree\n",
    "a=tree_info('Neem',1200,park_name='gold Neem')\n",
    "print(a)\n",
    "b=tree_info('mango',120,production='100 touns',kind='laungra')\n",
    "print(b)"
   ]
  }
 ],
 "metadata": {
  "kernelspec": {
   "display_name": "Python 3",
   "language": "python",
   "name": "python3"
  },
  "language_info": {
   "codemirror_mode": {
    "name": "ipython",
    "version": 3
   },
   "file_extension": ".py",
   "mimetype": "text/x-python",
   "name": "python",
   "nbconvert_exporter": "python",
   "pygments_lexer": "ipython3",
   "version": "3.7.4"
  }
 },
 "nbformat": 4,
 "nbformat_minor": 2
}
