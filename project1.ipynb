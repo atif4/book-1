{
 "cells": [
  {
   "cell_type": "code",
   "execution_count": 1,
   "metadata": {},
   "outputs": [
    {
     "name": "stdout",
     "output_type": "stream",
     "text": [
      "enter the name of doner: zakat\n",
      "choice any one of these donation type: \n",
      "zakat\n",
      "sadaka\n",
      "fatara\n",
      "please enter the type of donation ( a , b , c ): \n",
      "zakat\n",
      "please tell the amount: 4300\n",
      "DONER'S NAME IS: ZAKAT \n",
      "HE GIVES HIS ZAKAT Of 4300\n",
      "please enter amount: yb\n",
      "DONER'S NAME IS: ZAKAT \n",
      "HE GIVES HIS SADAKA Of yb\n",
      "please enter amount: yy\n",
      "DONER'S NAME IS: ZAKAT \n",
      "HE GIVES HIS FATARA Of yy\n"
     ]
    }
   ],
   "source": [
    "name = input(\"enter the name of doner: \")\n",
    "donation_lists = [\"zakat\", \"sadaka\" ,\"fatara\"]\n",
    "print(\"choice any one of these donation type: \\nzakat\\nsadaka\\nfatara\")\n",
    "donation = input(\"please enter the type of donation ( a , b , c ): \\n\")\n",
    "mas1 = \"Doner's name is: \"\n",
    "mas2 = \"\\nHe gives his \"\n",
    "mas3 = \"something goes wrong\"\n",
    "for donation_list in donation_lists:\n",
    "    if donation_list == \"zakat\":\n",
    "        amount = input(\"please tell the amount: \")\n",
    "        print(mas1.upper()+name.upper(),mas2.upper()+donation_list.upper()+\" Of \"+amount)\n",
    "    elif donation_list == \"sadaka\":\n",
    "        amount = input(\"please enter amount: \" )\n",
    "        print(mas1.upper()+name.upper(),mas2.upper()+donation_list.upper()+\" Of \"+amount)\n",
    "    elif donation_list == \"fatara\":\n",
    "        amount = input(\"please enter amount: \")\n",
    "        print(mas1.upper()+name.upper(),mas2.upper()+donation_list.upper()+\" Of \"+amount)\n",
    "    else:\n",
    "        print(mas3.upper())"
   ]
  },
  {
   "cell_type": "code",
   "execution_count": 1,
   "metadata": {},
   "outputs": [
    {
     "name": "stdout",
     "output_type": "stream",
     "text": [
      "it's working\n"
     ]
    }
   ],
   "source": [
    "import tkinter\n",
    "top = tkinter.Tk()\n",
    "\n",
    "#create function \n",
    "def ShowMas():\n",
    "    print(\"it's working\")\n",
    "\n",
    "b = tkinter.Button(top,text=\"Ok\",command=ShowMas,activebackground=\"red\",bd =5)\n",
    "b.pack()\n",
    "top.mainloop() # it use to show the window"
   ]
  },
  {
   "cell_type": "code",
   "execution_count": 2,
   "metadata": {},
   "outputs": [
    {
     "name": "stdout",
     "output_type": "stream",
     "text": [
      "your data is : gfjgfut\n",
      "your data is : gfjgfut\n",
      "your data is : gfjgfut\n",
      "your data is : gfjgfut\n",
      "your data is : gfjgfut\n",
      "your data is : gfjgfut\n",
      "your data is : gfjgfut\n"
     ]
    }
   ],
   "source": [
    "from tkinter import *\n",
    "\n",
    "def show():\n",
    "    print(\"your data is :\",input1.get())\n",
    "\n",
    "top=Tk() # it is necessary for gui in python \n",
    "top.title(\"project\")\n",
    "ll = Label(top,text=\"enter data: \",font=('courier New',11))\n",
    "ll.pack() # pack() is function it call different attribut of gui python \n",
    "input1 = Entry(top)\n",
    "input1.pack()\n",
    "b1=Button(top,text=\"click me\",command = show)\n",
    "b1.pack()\n",
    "top.geometry(\"350x200\")\n",
    "top.mainloop()\n"
   ]
  },
  {
   "cell_type": "code",
   "execution_count": 3,
   "metadata": {},
   "outputs": [
    {
     "name": "stdout",
     "output_type": "stream",
     "text": [
      "enter the name of doner: hvjhvhk\n",
      "choice any one of these donation type: \n",
      "a: zakat\n",
      "b: sadaka\n",
      "c: fatara\n",
      "please enter the type of donation ( a , b , c ): \n",
      "hbmhbk\n",
      "something goes wrong\n"
     ]
    }
   ],
   "source": [
    "name = input(\"enter the name of doner: \")\n",
    "print(\"choice any one of these donation type: \\na: zakat\\nb: sadaka\\nc: fatara\")\n",
    "donation = input(\"please enter the type of donation ( a , b , c ): \\n\")\n",
    "if donation == \"a\":\n",
    "    amount = input(\"please tell the amount: \")\n",
    "    print(\"Doner's name is: \" + name + \" He give his zakat of: \" + amount)\n",
    "elif donation == \"b\":\n",
    "    amount = input(\"please enter amount: \" )\n",
    "    print(\"Doner's name is: \"+ name +\" He give his \"+ donation + \" of: \" +amount)\n",
    "elif donation == \"c\":\n",
    "    amount = input(\"please enter amount: \")\n",
    "    print(\"Doner's name is: \"+ name +\" He give his \"+ donation + \" of: \"+amount)\n",
    "else:\n",
    "    print(\"something goes wrong\")"
   ]
  },
  {
   "cell_type": "code",
   "execution_count": 12,
   "metadata": {},
   "outputs": [],
   "source": [
    "from tkinter import *\n",
    "root = Tk()\n",
    "root.title(\"Hi\")\n",
    "\n",
    "lb = Label(root,text=\"enter text\").grid(row=30,column=4)\n",
    "\n",
    "bt = Button(root, text=\"ok\",padx=15,pady=2).grid(row=90,column=10)\n",
    "\n",
    "\n",
    "root.geometry(\"200x200\")\n",
    "root.mainloop()"
   ]
  },
  {
   "cell_type": "code",
   "execution_count": 11,
   "metadata": {},
   "outputs": [],
   "source": [
    "from tkinter import *\n",
    "root = Tk()\n",
    "\n",
    "def myclick():\n",
    "    lb = Label(root, text = \"you have clicked\")\n",
    "    lb.pack()\n",
    "\n",
    "root.title(\"Hi\")\n",
    "bt = Button(root, text=\"ok\",command = myclick,fg=\"blue\",bg=\"red\")#.grid(row=90,column=10)\n",
    "bt.pack()\n",
    "\n",
    "root.geometry(\"200x200\")\n",
    "root.mainloop()"
   ]
  },
  {
   "cell_type": "code",
   "execution_count": 49,
   "metadata": {},
   "outputs": [],
   "source": [
    "from tkinter import *\n",
    "root = Tk()\n",
    "\n",
    "e = Entry(root)\n",
    "e.pack()\n",
    "e.insert(0,\"name\")\n",
    "def myclick():\n",
    "    a = \"hi \" + e.get()\n",
    "    lb = Label(root, text = a)\n",
    "    lb.pack()\n",
    "\n",
    "root.title(\"Hi\")\n",
    "bt = Button(root, text=\"name\",command = myclick,fg=\"blue\",bg=\"red\")#.grid(row=90,column=10)\n",
    "bt.pack()\n",
    "\n",
    "root.geometry(\"200x200\")\n",
    "root.mainloop()"
   ]
  },
  {
   "cell_type": "code",
   "execution_count": 55,
   "metadata": {},
   "outputs": [],
   "source": [
    "from tkinter import *\n",
    "root = Tk()\n",
    "\n",
    "root.title(\"simple Calculator\")\n",
    "e = Entry(root,width=35,borderwidth=5)\n",
    "e.grid(row=0, column=1, columnspan=6, padx=30, pady=4)\n",
    "e.insert(0,\"name\")\n",
    "\n",
    "\n",
    "lb = Label(root,text=\"enter text\").grid(row=0,column=0)\n",
    "\n",
    "\n",
    "\n",
    "def myclick():\n",
    "    a = \"hi \" + e.get()\n",
    "    lb = Label(root, text = a)\n",
    "    lb.pack()\n",
    "\n",
    "\n",
    "bt = Button(root, text=\"name\",command = myclick,fg=\"blue\",bg=\"red\")#.grid(row=90,column=10)\n",
    "\n",
    "root.geometry(\"200x200\")\n",
    "root.mainloop()"
   ]
  },
  {
   "cell_type": "code",
   "execution_count": 57,
   "metadata": {},
   "outputs": [],
   "source": [
    "from tkinter import *\n",
    "\n",
    "root = Tk()\n",
    "\n",
    "root.title(\"simple Calculator\")\n",
    "lb = Label(root,text=\"enter text\").grid(row=3,column=3)\n",
    "\n",
    "\n",
    "\n",
    "\n",
    "bt = Button(root, text=\"name\",command = myclick,fg=\"blue\",bg=\"red\")#.grid(row=90,column=10)\n",
    "\n",
    "root.mainloop()"
   ]
  },
  {
   "cell_type": "code",
   "execution_count": null,
   "metadata": {},
   "outputs": [],
   "source": []
  },
  {
   "cell_type": "code",
   "execution_count": null,
   "metadata": {},
   "outputs": [],
   "source": []
  },
  {
   "cell_type": "code",
   "execution_count": null,
   "metadata": {},
   "outputs": [],
   "source": []
  },
  {
   "cell_type": "code",
   "execution_count": null,
   "metadata": {},
   "outputs": [],
   "source": []
  },
  {
   "cell_type": "code",
   "execution_count": null,
   "metadata": {},
   "outputs": [],
   "source": []
  },
  {
   "cell_type": "code",
   "execution_count": null,
   "metadata": {},
   "outputs": [],
   "source": []
  },
  {
   "cell_type": "code",
   "execution_count": null,
   "metadata": {},
   "outputs": [],
   "source": []
  },
  {
   "cell_type": "code",
   "execution_count": null,
   "metadata": {},
   "outputs": [],
   "source": []
  },
  {
   "cell_type": "code",
   "execution_count": null,
   "metadata": {},
   "outputs": [],
   "source": []
  },
  {
   "cell_type": "code",
   "execution_count": null,
   "metadata": {},
   "outputs": [],
   "source": []
  },
  {
   "cell_type": "code",
   "execution_count": null,
   "metadata": {},
   "outputs": [],
   "source": []
  },
  {
   "cell_type": "code",
   "execution_count": null,
   "metadata": {},
   "outputs": [],
   "source": []
  },
  {
   "cell_type": "code",
   "execution_count": null,
   "metadata": {},
   "outputs": [],
   "source": []
  },
  {
   "cell_type": "code",
   "execution_count": null,
   "metadata": {},
   "outputs": [],
   "source": []
  }
 ],
 "metadata": {
  "kernelspec": {
   "display_name": "Python 3",
   "language": "python",
   "name": "python3"
  },
  "language_info": {
   "codemirror_mode": {
    "name": "ipython",
    "version": 3
   },
   "file_extension": ".py",
   "mimetype": "text/x-python",
   "name": "python",
   "nbconvert_exporter": "python",
   "pygments_lexer": "ipython3",
   "version": "3.7.4"
  }
 },
 "nbformat": 4,
 "nbformat_minor": 2
}
